{
 "cells": [
  {
   "cell_type": "markdown",
   "metadata": {},
   "source": [
    "We will use `pygmsh` to create a `box`.\n",
    "The `box` object can only be initialized in an axis-aligned orientation.\n",
    "That means its edges will go along the (x, y, z) directions and not at a 45 degree angle, for instance.\n",
    "In a minute we will do some rotations with `scipy`.\n",
    "> You will get a warning about builtin ctypes, you can ignore this."
   ]
  },
  {
   "cell_type": "code",
   "execution_count": 21,
   "metadata": {},
   "outputs": [
    {
     "name": "stdout",
     "output_type": "stream",
     "text": [
      "<meshio mesh object>\n",
      "  Number of points: 174\n",
      "  Number of cells:\n",
      "    line: 64\n",
      "    triangle: 344\n",
      "    tetra: 424\n",
      "    vertex: 8\n"
     ]
    },
    {
     "name": "stderr",
     "output_type": "stream",
     "text": [
      "C:\\Users\\Wes\\AppData\\Roaming\\Python\\Python37\\site-packages\\numpy\\ctypeslib.py:523: RuntimeWarning: A builtin ctypes object gave a PEP3118 format string that does not match its itemsize, so a best-guess will be made of the data type. Newer versions of python may behave correctly.\n",
      "  return array(obj, copy=False)\n"
     ]
    }
   ],
   "source": [
    "import pygmsh\n",
    "import numpy as np\n",
    "\n",
    "with pygmsh.occ.Geometry() as geom:  # initialize the geometry kernel\n",
    "    x0 = np.array([-1, -1, 0])       # define the lower-left-most point\n",
    "    dims = np.array([2, 1, 0.25])    # define the extent in each dimension (x, y, z)\n",
    "    box = geom.add_box(x0, dims)     # add the box to the scene\n",
    "    mesh = geom.generate_mesh()      # generate the mesh from the defined shapes\n",
    "    \n",
    "print(mesh)"
   ]
  },
  {
   "cell_type": "markdown",
   "metadata": {},
   "source": [
    "We use `print` to get a summary of the generated mesh.\n",
    "To actually visualize it, we can use an interactive `k3d` plot.\n",
    "That means you can pan, rotate, zoom, etc after the plot is rendered.\n",
    "These features will help with designing 3D geometries."
   ]
  },
  {
   "cell_type": "code",
   "execution_count": 22,
   "metadata": {},
   "outputs": [
    {
     "data": {
      "application/vnd.jupyter.widget-view+json": {
       "model_id": "9f76d37ca6a240f3bba72bf886d5e523",
       "version_major": 2,
       "version_minor": 0
      },
      "text/plain": [
       "Output()"
      ]
     },
     "metadata": {},
     "output_type": "display_data"
    }
   ],
   "source": [
    "import k3d\n",
    "\n",
    "plot = k3d.plot()                                                   # create an interactive k3d plot\n",
    "plt_mesh = k3d.mesh(mesh.points.astype(np.float32),                 # add a mesh to the plot using the mesh `points`...\n",
    "                    mesh.cells_dict['triangle'].astype(np.uint32),  # ...and the `triangle` cells defined in the mesh...\n",
    "                    wireframe=True, color=0x000000)                 # ...and render it in \"wireframe\" to show the triangles\n",
    "plot += plt_mesh                                                    # add the `plt_mesh` element to the k3d plot\n",
    "plot.display()                                                      # display the k3d plot"
   ]
  },
  {
   "cell_type": "markdown",
   "metadata": {},
   "source": [
    "Let's use `scipy` to compute some rotations for us.\n",
    "The package `pygmsh` does rotations using the following information:\n",
    "* Rotation origin (the point about which the rotation will occur)\n",
    "* Rotation axis (the axis about which the object will rotate)\n",
    "* Rotation angle (the magnitude of the rotation)\n",
    "\n",
    "We can get these from `scipy` in the form of a `rotvec` or rotation vector.\n",
    "The direction of the rotation vector defines the rotation and the magnitude defines the angle in radians."
   ]
  },
  {
   "cell_type": "code",
   "execution_count": 24,
   "metadata": {},
   "outputs": [
    {
     "name": "stdout",
     "output_type": "stream",
     "text": [
      "[0.78539816 0.         0.        ] 0.7853981633974484\n"
     ]
    }
   ],
   "source": [
    "from scipy.spatial.transform import Rotation\n",
    "\n",
    "R = Rotation.from_euler('x', np.pi/4)  # create a `Rotation` object that rotates about `x` by 45 degrees (in radians!)\n",
    "axis = R.as_rotvec()                   # compute the rotation axis\n",
    "angle = np.linalg.norm(axis)           # calculate the rotation angle using numpy to get the norm\n",
    "\n",
    "print(axis, angle)"
   ]
  },
  {
   "cell_type": "markdown",
   "metadata": {},
   "source": [
    "Here you can see that the rotation axis goes along the x axis as we requested.\n",
    "Let's see how this works in `pygmsh`..."
   ]
  },
  {
   "cell_type": "code",
   "execution_count": 25,
   "metadata": {},
   "outputs": [
    {
     "name": "stderr",
     "output_type": "stream",
     "text": [
      "C:\\Users\\Wes\\AppData\\Roaming\\Python\\Python37\\site-packages\\numpy\\ctypeslib.py:523: RuntimeWarning: A builtin ctypes object gave a PEP3118 format string that does not match its itemsize, so a best-guess will be made of the data type. Newer versions of python may behave correctly.\n",
      "  return array(obj, copy=False)\n"
     ]
    },
    {
     "data": {
      "application/vnd.jupyter.widget-view+json": {
       "model_id": "24176acd1c15419694929c5c5a7ca59b",
       "version_major": 2,
       "version_minor": 0
      },
      "text/plain": [
       "Output()"
      ]
     },
     "metadata": {},
     "output_type": "display_data"
    }
   ],
   "source": [
    "with pygmsh.occ.Geometry() as geom:\n",
    "    x0 = np.array([-1, -1, 0])     # create the box as before...\n",
    "    dims = np.array([2, 1, 0.25])\n",
    "    box = geom.add_box(x0, dims)\n",
    "    \n",
    "    box = geom.rotate(box,        # the rotation takes the object as input...\n",
    "                      [0, 0, 0],  # ...we'll do the rotation around the origin, but we could pick any point\n",
    "                      angle,      # ...define the rotation angle as we computed above...\n",
    "                      axis)       # ...define the rotation axis as we computed above\n",
    "\n",
    "    mesh = geom.generate_mesh()\n",
    "    \n",
    "plot = k3d.plot()\n",
    "plt_mesh = k3d.mesh(mesh.points.astype(np.float32),\n",
    "                    mesh.cells_dict['triangle'].astype(np.uint32),\n",
    "                    wireframe=True, color=0x000000)\n",
    "plot += plt_mesh\n",
    "plot.display()"
   ]
  },
  {
   "cell_type": "markdown",
   "metadata": {},
   "source": [
    "We can also define multiple rotations using the Euler angles, such as 45 degrees about x and 30 degrees around y."
   ]
  },
  {
   "cell_type": "code",
   "execution_count": 26,
   "metadata": {},
   "outputs": [
    {
     "name": "stderr",
     "output_type": "stream",
     "text": [
      "C:\\Users\\Wes\\AppData\\Roaming\\Python\\Python37\\site-packages\\numpy\\ctypeslib.py:523: RuntimeWarning: A builtin ctypes object gave a PEP3118 format string that does not match its itemsize, so a best-guess will be made of the data type. Newer versions of python may behave correctly.\n",
      "  return array(obj, copy=False)\n"
     ]
    },
    {
     "data": {
      "application/vnd.jupyter.widget-view+json": {
       "model_id": "e3f655205bf14b0b9131b0116e6301d2",
       "version_major": 2,
       "version_minor": 0
      },
      "text/plain": [
       "Output()"
      ]
     },
     "metadata": {},
     "output_type": "display_data"
    }
   ],
   "source": [
    "R = Rotation.from_euler('xy', [np.pi/4, np.pi/6])\n",
    "axis = R.as_rotvec()\n",
    "angle = np.linalg.norm(axis)\n",
    "\n",
    "with pygmsh.occ.Geometry() as geom:\n",
    "    x0 = np.array([-1, -1, 0])     # create the box as before...\n",
    "    dims = np.array([2, 1, 0.25])\n",
    "    box = geom.add_box(x0, dims)\n",
    "    \n",
    "    box = geom.rotate(box,        # the rotation takes the object as input...\n",
    "                      [0, 0, 0],  # ...we'll do the rotation around the origin, but we could pick any point\n",
    "                      angle,      # ...define the rotation angle as we computed above...\n",
    "                      axis)       # ...define the rotation axis as we computed above\n",
    "\n",
    "    mesh = geom.generate_mesh()\n",
    "    \n",
    "plot = k3d.plot()\n",
    "plt_mesh = k3d.mesh(mesh.points.astype(np.float32),\n",
    "                    mesh.cells_dict['triangle'].astype(np.uint32),\n",
    "                    wireframe=True, color=0x000000)\n",
    "plot += plt_mesh\n",
    "plot.display()"
   ]
  },
  {
   "cell_type": "code",
   "execution_count": null,
   "metadata": {},
   "outputs": [],
   "source": []
  }
 ],
 "metadata": {
  "kernelspec": {
   "display_name": "Python 3",
   "language": "python",
   "name": "python3"
  },
  "language_info": {
   "codemirror_mode": {
    "name": "ipython",
    "version": 3
   },
   "file_extension": ".py",
   "mimetype": "text/x-python",
   "name": "python",
   "nbconvert_exporter": "python",
   "pygments_lexer": "ipython3",
   "version": "3.7.9"
  }
 },
 "nbformat": 4,
 "nbformat_minor": 4
}

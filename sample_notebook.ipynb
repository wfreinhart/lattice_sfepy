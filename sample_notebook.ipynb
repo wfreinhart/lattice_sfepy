{
 "cells": [
  {
   "cell_type": "code",
   "execution_count": 147,
   "metadata": {},
   "outputs": [
    {
     "name": "stderr",
     "output_type": "stream",
     "text": [
      "C:\\Users\\Wes\\AppData\\Roaming\\Python\\Python37\\site-packages\\numpy\\ctypeslib.py:523: RuntimeWarning: A builtin ctypes object gave a PEP3118 format string that does not match its itemsize, so a best-guess will be made of the data type. Newer versions of python may behave correctly.\n",
      "  return array(obj, copy=False)\n"
     ]
    }
   ],
   "source": [
    "import pygmsh\n",
    "import numpy as np\n",
    "\n",
    "\n",
    "with pygmsh.geo.Geometry() as geom:\n",
    "    poly = geom.add_polygon(\n",
    "        [\n",
    "            [0.0, 0.0],\n",
    "            [1.0, -0.2],\n",
    "            [1.1, 1.2],\n",
    "            [0.1, 0.7],\n",
    "        ],\n",
    "        mesh_size=0.1,\n",
    "    )\n",
    "    geom.extrude(poly, [0.0, 0.3, 1.0], num_layers=5)\n",
    "    mesh = geom.generate_mesh()"
   ]
  },
  {
   "cell_type": "code",
   "execution_count": 148,
   "metadata": {},
   "outputs": [
    {
     "data": {
      "application/vnd.jupyter.widget-view+json": {
       "model_id": "ceb448c1a50c47f2ab3d69a8f393a8f8",
       "version_major": 2,
       "version_minor": 0
      },
      "text/plain": [
       "Output()"
      ]
     },
     "metadata": {},
     "output_type": "display_data"
    }
   ],
   "source": [
    "import k3d\n",
    "\n",
    "\n",
    "plot = k3d.plot()\n",
    "plt_mesh = k3d.mesh(mesh.points.astype(np.float32),\n",
    "                    mesh.cells_dict['triangle'].astype(np.uint32),\n",
    "                    wireframe=True, color=0x000000)\n",
    "plot += plt_mesh\n",
    "plot.display()"
   ]
  },
  {
   "cell_type": "code",
   "execution_count": 242,
   "metadata": {},
   "outputs": [
    {
     "name": "stderr",
     "output_type": "stream",
     "text": [
      "C:\\Users\\Wes\\AppData\\Roaming\\Python\\Python37\\site-packages\\numpy\\ctypeslib.py:523: RuntimeWarning: A builtin ctypes object gave a PEP3118 format string that does not match its itemsize, so a best-guess will be made of the data type. Newer versions of python may behave correctly.\n",
      "  return array(obj, copy=False)\n"
     ]
    },
    {
     "data": {
      "application/vnd.jupyter.widget-view+json": {
       "model_id": "470e17783d2c48caa374218109698841",
       "version_major": 2,
       "version_minor": 0
      },
      "text/plain": [
       "Output()"
      ]
     },
     "metadata": {},
     "output_type": "display_data"
    }
   ],
   "source": [
    "with pygmsh.occ.Geometry() as geom:\n",
    "    geom.characteristic_length_min = 0.1\n",
    "    geom.characteristic_length_max = 0.1\n",
    "\n",
    "#     rectangle = geom.add_rectangle([-1.0, -1.0, 0.0], 2.0, 2.0)\n",
    "#     disk1 = geom.add_disk([-1.2, 0.0, 0.0], 0.5)\n",
    "#     disk2 = geom.add_disk([+1.2, 0.0, 0.0], 0.5)\n",
    "\n",
    "#     disk3 = geom.add_disk([0.0, -0.9, 0.0], 0.5)\n",
    "#     disk4 = geom.add_disk([0.0, +0.9, 0.0], 0.5)\n",
    "#     flat = geom.boolean_difference(\n",
    "#         geom.boolean_union([rectangle, disk1, disk2]),\n",
    "#         geom.boolean_union([disk3, disk4]),\n",
    "#     )\n",
    "    \n",
    "    rectangle = geom.add_rectangle([-1.0, -1.0, 0.0], 2.0, 2.0)\n",
    "    _, base, _ = geom.extrude(rectangle, [0, 0, 0.3])\n",
    "    \n",
    "    square = geom.add_rectangle([-0.5, -0.5, 0.3], 0.5, 0.5)\n",
    "    _, pillar, _ = geom.extrude(square, [0, 0, 1.0])\n",
    "    \n",
    "    disk = geom.add_disk([-0.25, -0.25, 1.3], 0.5)\n",
    "    _, top, _ = geom.extrude(disk, [0, 0, 0.1])\n",
    "    \n",
    "    geom.boolean_union([base, pillar, top])\n",
    "\n",
    "    mesh = geom.generate_mesh()\n",
    "    \n",
    "plot = k3d.plot()\n",
    "plt_mesh = k3d.mesh(mesh.points.astype(np.float32),\n",
    "                    mesh.cells_dict['triangle'].astype(np.uint32),\n",
    "                    wireframe=True, color=0x000000)\n",
    "plot += plt_mesh\n",
    "plot.display()"
   ]
  },
  {
   "cell_type": "code",
   "execution_count": 223,
   "metadata": {},
   "outputs": [
    {
     "name": "stderr",
     "output_type": "stream",
     "text": [
      "C:\\Users\\Wes\\AppData\\Roaming\\Python\\Python37\\site-packages\\numpy\\ctypeslib.py:523: RuntimeWarning: A builtin ctypes object gave a PEP3118 format string that does not match its itemsize, so a best-guess will be made of the data type. Newer versions of python may behave correctly.\n",
      "  return array(obj, copy=False)\n"
     ]
    },
    {
     "data": {
      "application/vnd.jupyter.widget-view+json": {
       "model_id": "4572e9a0fbb64af18bca85422303731d",
       "version_major": 2,
       "version_minor": 0
      },
      "text/plain": [
       "Output()"
      ]
     },
     "metadata": {},
     "output_type": "display_data"
    }
   ],
   "source": [
    "with pygmsh.geo.Geometry() as geom:\n",
    "    poly = geom.add_polygon(\n",
    "        [\n",
    "            [0.0, 0.0, 0.0],\n",
    "            [1.0, -0.2, 0.0],\n",
    "            [1.1, 1.2, 0.0],\n",
    "            [0.1, 0.7, 0.0],\n",
    "        ],\n",
    "        mesh_size=0.1,\n",
    "    )\n",
    "    _, a, _ = geom.extrude(poly, [0.0, 0.3, 1.0], num_layers=5)\n",
    "    poly = geom.add_polygon(\n",
    "        [\n",
    "            [0.0, 0.3, 1.0],\n",
    "            [1.0, 0.1, 1.0],\n",
    "            [1.1, 1.5, 1.0],\n",
    "            [0.1, 1.0, 1.0],\n",
    "        ],\n",
    "        mesh_size=0.1,\n",
    "    )\n",
    "    _, b, _ = geom.extrude(poly, [0.0, -0.3, 1.0], num_layers=5)\n",
    "    mesh = geom.generate_mesh()\n",
    "    \n",
    "plot = k3d.plot()\n",
    "plt_mesh = k3d.mesh(mesh.points.astype(np.float32),\n",
    "                    mesh.cells_dict['triangle'].astype(np.uint32),\n",
    "                    wireframe=True, color=0x000000)\n",
    "plot += plt_mesh\n",
    "plot.display()"
   ]
  },
  {
   "cell_type": "code",
   "execution_count": 243,
   "metadata": {},
   "outputs": [],
   "source": [
    "mesh.write('out.vtk')"
   ]
  },
  {
   "cell_type": "code",
   "execution_count": 244,
   "metadata": {},
   "outputs": [
    {
     "name": "stdout",
     "output_type": "stream",
     "text": [
      "sfepy: reading mesh (out.vtk)...\n",
      "sfepy:   warning: unknown cell type vertex with dimension 3\n",
      "sfepy:   number of vertices: 2340\n",
      "sfepy:   number of cells:\n",
      "sfepy:     1_2: 317\n",
      "sfepy:     2_3: 3498\n",
      "sfepy:     3_4: 8735\n",
      "sfepy: ...done in 0.01 s\n"
     ]
    }
   ],
   "source": [
    "from sfepy.discrete import fem\n",
    "\n",
    "\n",
    "sfe_mesh = fem.Mesh.from_file('out.vtk')\n",
    "data = list(sfe_mesh._get_io_data(cell_dim_only=[3]))  # strip non-3d elements\n",
    "sfe_mesh = fem.Mesh.from_data(sfe_mesh.name, *data)\n",
    "domain = fem.FEDomain('domain', sfe_mesh)"
   ]
  },
  {
   "cell_type": "code",
   "execution_count": 245,
   "metadata": {},
   "outputs": [],
   "source": [
    "from sfepy.mechanics import matcoefs\n",
    "from sfepy.discrete import Material\n",
    "\n",
    "\n",
    "# these are for stainless steel 316L\n",
    "m = Material('m', D=matcoefs.stiffness_from_youngpoisson(dim=3, young=1.93e9, poisson=0.275), rho=8000.0)"
   ]
  },
  {
   "cell_type": "code",
   "execution_count": 246,
   "metadata": {},
   "outputs": [],
   "source": [
    "from sfepy.discrete import conditions\n",
    "\n",
    "\n",
    "min_z, max_z = domain.get_mesh_bounding_box()[:, 2]\n",
    "epsilon = 1e-2\n",
    "omega = domain.create_region('Omega', 'all')\n",
    "bot_region = domain.create_region('bot', 'vertices in z < %.10f' % (min_z + epsilon), 'vertex')\n",
    "top_region = domain.create_region('top', 'vertices in z > %.10f' % (max_z - epsilon), 'vertex')\n",
    "\n",
    "z_displacement = -0.5\n",
    "displace_top = conditions.EssentialBC('displace_top', top_region, {'u.[0,1]': 0.0, 'u.[2]': z_displacement})\n",
    "fix_bot = conditions.EssentialBC('fix_bot', bot_region, {'u.all': 0.0})"
   ]
  },
  {
   "cell_type": "code",
   "execution_count": 247,
   "metadata": {},
   "outputs": [],
   "source": [
    "from sfepy.discrete import FieldVariable\n",
    "\n",
    "\n",
    "field = fem.Field.from_args('fu', np.float64, 'vector', omega, approx_order=1)\n",
    "u = FieldVariable('u', 'unknown', field)\n",
    "v = FieldVariable('v', 'test', field, primary_var_name='u')"
   ]
  },
  {
   "cell_type": "code",
   "execution_count": 248,
   "metadata": {},
   "outputs": [
    {
     "name": "stdout",
     "output_type": "stream",
     "text": [
      "sfepy: saving regions as groups...\n",
      "sfepy:   Omega\n",
      "sfepy:   bot\n",
      "sfepy:   top\n",
      "sfepy: ...done\n"
     ]
    }
   ],
   "source": [
    "from sfepy.discrete import Equation, Equations, Integral, Problem\n",
    "from sfepy.terms import Term\n",
    "\n",
    "\n",
    "integral = Integral('i', order=1)\n",
    "t1 = Term.new('dw_lin_elastic(m.D, v, u)', integral, omega, m=m, v=v, u=u)\n",
    "eq1 = Equation('balance_of_forces', t1)\n",
    "eqs = Equations([eq1])\n",
    "\n",
    "pb = Problem('elasticity', equations=eqs)\n",
    "pb.save_regions_as_groups('regions')\n",
    "pb.set_bcs(ebcs=conditions.Conditions([fix_bot, displace_top]))"
   ]
  },
  {
   "cell_type": "code",
   "execution_count": 249,
   "metadata": {},
   "outputs": [],
   "source": [
    "from sfepy.solvers.ls import ScipyDirect\n",
    "from sfepy.solvers.nls import Newton\n",
    "from sfepy.discrete import Problem\n",
    "\n",
    "\n",
    "ls = ScipyDirect({})\n",
    "nls = Newton({}, lin_solver=ls)\n",
    "pb.set_solver(nls)"
   ]
  },
  {
   "cell_type": "code",
   "execution_count": 250,
   "metadata": {},
   "outputs": [
    {
     "name": "stdout",
     "output_type": "stream",
     "text": [
      "sfepy: updating variables...\n",
      "sfepy: ...done\n",
      "sfepy: setting up dof connectivities...\n",
      "sfepy: ...done in 0.00 s\n",
      "sfepy: matrix shape: (5106, 5106)\n",
      "sfepy: assembling matrix graph...\n",
      "sfepy: ...done in 0.04 s\n",
      "sfepy: matrix structural nonzeros: 174186 (6.68e-03% fill)\n",
      "sfepy: updating variables...\n",
      "sfepy: ...done\n",
      "sfepy: updating materials...\n",
      "sfepy:     m\n",
      "sfepy: ...done in 0.00 s\n",
      "sfepy: nls: iter: 0, residual: 1.148695e+09 (rel: 1.000000e+00)\n",
      "sfepy:   residual:    0.00 [s]\n",
      "sfepy:     matrix:    0.04 [s]\n",
      "sfepy:      solve:    0.09 [s]\n",
      "sfepy: warning: linear system solution precision is lower\n",
      "sfepy: then the value set in solver options! (err = 1.932731e-06 < 1.000000e-10)\n",
      "sfepy: nls: iter: 1, residual: 1.842687e-06 (rel: 1.604158e-15)\n",
      "sfepy: solved in 1 steps in 0.15 seconds\n"
     ]
    }
   ],
   "source": [
    "state = pb.solve()"
   ]
  },
  {
   "cell_type": "code",
   "execution_count": 251,
   "metadata": {},
   "outputs": [
    {
     "name": "stdout",
     "output_type": "stream",
     "text": [
      "sfepy: equation \"tmp\":\n",
      "sfepy: ev_cauchy_strain.2.Omega(u)\n",
      "sfepy: updating materials...\n",
      "sfepy: ...done in 0.00 s\n",
      "sfepy: equation \"tmp\":\n",
      "sfepy: ev_cauchy_stress.2.Omega(m.D, u)\n",
      "sfepy: updating materials...\n",
      "sfepy:     m\n",
      "sfepy: ...done in 0.01 s\n"
     ]
    }
   ],
   "source": [
    "from sfepy.mechanics.tensors import get_von_mises_stress\n",
    "\n",
    "\n",
    "disp = np.array(u.data[0]).reshape(-1, 3)\n",
    "strain = pb.evaluate('ev_cauchy_strain.2.Omega(u)', u=u, mode='el_avg')\n",
    "stress = pb.evaluate('ev_cauchy_stress.2.Omega(m.D, u)', m=m, u=u, mode='el_avg')\n",
    "vms = get_von_mises_stress(stress.squeeze())"
   ]
  },
  {
   "cell_type": "code",
   "execution_count": 252,
   "metadata": {},
   "outputs": [],
   "source": [
    "node_vms = np.zeros(omega.vertices.shape)\n",
    "node_vms[sfe_mesh.get_conn('3_4')] += vms"
   ]
  },
  {
   "cell_type": "code",
   "execution_count": 255,
   "metadata": {},
   "outputs": [
    {
     "data": {
      "application/vnd.jupyter.widget-view+json": {
       "model_id": "47075df9406343d5a1bb524294c95710",
       "version_major": 2,
       "version_minor": 0
      },
      "text/plain": [
       "Output()"
      ]
     },
     "metadata": {},
     "output_type": "display_data"
    }
   ],
   "source": [
    "plot = k3d.plot()\n",
    "plt_mesh = k3d.mesh(sfe_mesh.coors.astype(np.float32) + disp.astype(np.float32),\n",
    "                    sfe_mesh.get_conn('3_4').astype(np.uint32),\n",
    "                    wireframe=True, color=0x000000,\n",
    "                    color_map = k3d.colormaps.basic_color_maps.Jet,\n",
    "                    attribute= node_vms,\n",
    "                    color_range = [0, node_vms.max()])\n",
    "plot += plt_mesh\n",
    "plot.display()"
   ]
  },
  {
   "cell_type": "code",
   "execution_count": null,
   "metadata": {},
   "outputs": [],
   "source": []
  }
 ],
 "metadata": {
  "kernelspec": {
   "display_name": "Python 3",
   "language": "python",
   "name": "python3"
  },
  "language_info": {
   "codemirror_mode": {
    "name": "ipython",
    "version": 3
   },
   "file_extension": ".py",
   "mimetype": "text/x-python",
   "name": "python",
   "nbconvert_exporter": "python",
   "pygments_lexer": "ipython3",
   "version": "3.7.9"
  }
 },
 "nbformat": 4,
 "nbformat_minor": 4
}
